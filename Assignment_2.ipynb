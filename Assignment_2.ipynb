{
  "nbformat": 4,
  "nbformat_minor": 0,
  "metadata": {
    "colab": {
      "provenance": []
    },
    "kernelspec": {
      "name": "python3",
      "display_name": "Python 3"
    },
    "language_info": {
      "name": "python"
    }
  },
  "cells": [
    {
      "cell_type": "code",
      "execution_count": 1,
      "metadata": {
        "colab": {
          "base_uri": "https://localhost:8080/"
        },
        "id": "GE5YMwzNCWff",
        "outputId": "b94ddc9b-7c38-491b-b3c1-73170d384d99"
      },
      "outputs": [
        {
          "output_type": "stream",
          "name": "stdout",
          "text": [
            "Average Salary: $60000.00\n",
            "Total number of employees: 3\n"
          ]
        }
      ],
      "source": [
        "class Employee:\n",
        "    # Class variable to count the number of employees\n",
        "    employee_count = 0\n",
        "\n",
        "    def __init__(self, name, family, salary, department):\n",
        "        self.name = name\n",
        "        self.family = family\n",
        "        self.salary = salary\n",
        "        self.department = department\n",
        "        Employee.employee_count += 1\n",
        "\n",
        "    # Method to calculate average salary\n",
        "    @staticmethod\n",
        "    def average_salary(employees):\n",
        "        total_salary = sum(employee.salary for employee in employees)\n",
        "        return total_salary / len(employees)\n",
        "\n",
        "# FulltimeEmployee class inherits from Employee class\n",
        "class FulltimeEmployee(Employee):\n",
        "    def __init__(self, name, family, salary, department):\n",
        "        super().__init__(name, family, salary, department)\n",
        "\n",
        "# Create instances of FulltimeEmployee and Employee classes\n",
        "emp1 = Employee(\"hamsika\", \"Pranay\", 50000, \"HR\")\n",
        "emp2 = FulltimeEmployee(\"Dolly\", \"Sunny\", 60000, \"Engineering\")\n",
        "emp3 = FulltimeEmployee(\"Charlie\", \"Williams\", 70000, \"Marketing\")\n",
        "\n",
        "# List of all employees\n",
        "employees = [emp1, emp2, emp3]\n",
        "\n",
        "# Calculate and print the average salary\n",
        "average_salary = Employee.average_salary(employees)\n",
        "print(f\"Average Salary: ${average_salary:.2f}\")\n",
        "\n",
        "# Print the number of employees\n",
        "print(f\"Total number of employees: {Employee.employee_count}\")\n"
      ]
    },
    {
      "cell_type": "code",
      "source": [
        "import numpy as np\n",
        "\n",
        "# Create a random vector of size 20 with floats in the range 1-20\n",
        "random_vector = np.random.uniform(1, 20, 20)\n",
        "\n",
        "# Reshape the array to 4 by 5\n",
        "reshaped_array = random_vector.reshape(4, 5)\n",
        "\n",
        "# Replace the max in each row by 0\n",
        "reshaped_array[np.arange(reshaped_array.shape[0]), reshaped_array.argmax(axis=1)] = 0\n",
        "\n",
        "print(\"Original Random Vector:\")\n",
        "print(random_vector)\n",
        "print(\"\\nReshaped Array (4x5):\")\n",
        "print(reshaped_array)\n"
      ],
      "metadata": {
        "colab": {
          "base_uri": "https://localhost:8080/"
        },
        "id": "oadsymxZD818",
        "outputId": "78df27b3-d9c8-4165-b957-741e232d4409"
      },
      "execution_count": 2,
      "outputs": [
        {
          "output_type": "stream",
          "name": "stdout",
          "text": [
            "Original Random Vector:\n",
            "[18.01464573  7.27207011  0.          3.91169638 18.98063191  1.79459894\n",
            " 14.40913334 14.37191959  0.         11.27522421  1.64261997  8.62727227\n",
            " 18.0026133  11.16839318  0.         14.65473766  0.         16.44570863\n",
            "  6.22683825  5.55937238]\n",
            "\n",
            "Reshaped Array (4x5):\n",
            "[[18.01464573  7.27207011  0.          3.91169638 18.98063191]\n",
            " [ 1.79459894 14.40913334 14.37191959  0.         11.27522421]\n",
            " [ 1.64261997  8.62727227 18.0026133  11.16839318  0.        ]\n",
            " [14.65473766  0.         16.44570863  6.22683825  5.55937238]]\n"
          ]
        }
      ]
    },
    {
      "cell_type": "markdown",
      "source": [],
      "metadata": {
        "id": "Rof691VZMqHd"
      }
    },
    {
      "cell_type": "markdown",
      "source": [
        "video link:https://drive.google.com/file/d/1RmYkLHNgt964BuboXsACUcybryizWesY/view?usp=drive_link"
      ],
      "metadata": {
        "id": "M-AuhRE7TjER"
      }
    }
  ]
}